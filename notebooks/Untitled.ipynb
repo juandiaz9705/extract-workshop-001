{
 "cells": [
  {
   "cell_type": "markdown",
   "id": "d000ee7e-88cb-4217-8538-57823e82d01b",
   "metadata": {},
   "source": [
    "# Workshop 001: Proceso ETL de Datos de Candidatos"
   ]
  },
  {
   "cell_type": "markdown",
   "id": "c0bd722f-f151-489d-aa31-84d0a1875e84",
   "metadata": {},
   "source": [
    "Universidad Autónoma de Occidente\n",
    "\n",
    "Maestría en Inteligencia Artificial y Ciencia de Datos\n",
    "\n",
    "Procesamiento y Extracción de Información"
   ]
  },
  {
   "cell_type": "markdown",
   "id": "eec11742-af87-42ae-ab90-a2f63e34790c",
   "metadata": {},
   "source": [
    "**Estudiante:** Juan Diego Díaz Guzmán\n",
    "\n",
    "**Código de Estudiante:** 22500222\n",
    "\n",
    "**Profesor:** Javier Alejandro Vergara\n",
    "\n",
    "**Fecha:** 20/02/2025"
   ]
  },
  {
   "cell_type": "code",
   "execution_count": null,
   "id": "f7f58d90-a4fb-48ad-8dcc-5d8147a1c715",
   "metadata": {},
   "outputs": [],
   "source": []
  }
 ],
 "metadata": {
  "kernelspec": {
   "display_name": "Python 3 (ipykernel)",
   "language": "python",
   "name": "python3"
  },
  "language_info": {
   "codemirror_mode": {
    "name": "ipython",
    "version": 3
   },
   "file_extension": ".py",
   "mimetype": "text/x-python",
   "name": "python",
   "nbconvert_exporter": "python",
   "pygments_lexer": "ipython3",
   "version": "3.12.8"
  }
 },
 "nbformat": 4,
 "nbformat_minor": 5
}
