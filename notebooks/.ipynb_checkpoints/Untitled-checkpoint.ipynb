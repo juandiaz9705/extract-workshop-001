{
 "cells": [
  {
   "cell_type": "markdown",
   "id": "d000ee7e-88cb-4217-8538-57823e82d01b",
   "metadata": {},
   "source": [
    "# Workshop 001: Proceso ETL de Datos de Candidatos"
   ]
  },
  {
   "cell_type": "code",
   "execution_count": null,
   "id": "f99c1a12-feec-4528-adc8-543b9662f99c",
   "metadata": {},
   "outputs": [],
   "source": [
    "Universidad Autónoma de Occidente\n",
    "\n",
    "Maestría en Inteligencia Artificial y Ciencia de Datos\n",
    "\n",
    "Procesamiento y Extracción de Información"
   ]
  }
 ],
 "metadata": {
  "kernelspec": {
   "display_name": "Python 3 (ipykernel)",
   "language": "python",
   "name": "python3"
  },
  "language_info": {
   "codemirror_mode": {
    "name": "ipython",
    "version": 3
   },
   "file_extension": ".py",
   "mimetype": "text/x-python",
   "name": "python",
   "nbconvert_exporter": "python",
   "pygments_lexer": "ipython3",
   "version": "3.12.8"
  }
 },
 "nbformat": 4,
 "nbformat_minor": 5
}
